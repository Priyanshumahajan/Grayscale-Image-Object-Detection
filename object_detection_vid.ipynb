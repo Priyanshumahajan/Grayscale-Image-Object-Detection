{
 "cells": [
  {
   "cell_type": "code",
   "execution_count": null,
   "id": "1974379f",
   "metadata": {},
   "outputs": [],
   "source": [
    "!pip install cv2"
   ]
  },
  {
   "cell_type": "code",
   "execution_count": 1,
   "id": "4655a70c",
   "metadata": {},
   "outputs": [],
   "source": [
    "import cv2\n",
    "import numpy as np"
   ]
  },
  {
   "cell_type": "code",
   "execution_count": 2,
   "id": "3ea1f74b",
   "metadata": {},
   "outputs": [],
   "source": [
    "net = cv2.dnn.readNet(\"custom-yolov4-tiny-detector_1000.weights\",\"custom-yolov4-tiny-detector.cfg\")\n",
    "classes = []\n",
    "with open(\"classes.names\",'r') as f:\n",
    "    classes = f.read().splitlines()"
   ]
  },
  {
   "cell_type": "code",
   "execution_count": null,
   "id": "a4c82f86",
   "metadata": {},
   "outputs": [],
   "source": [
    "net = cv2.dnn.readNet(\"yolov4_custom_final.weights\",\"yolov4_custom.cfg\")\n",
    "classes = []\n",
    "with open(\"classes.names\",'r') as f:\n",
    "    classes = f.read().splitlines()"
   ]
  },
  {
   "cell_type": "code",
   "execution_count": 3,
   "id": "8ace53ae",
   "metadata": {},
   "outputs": [],
   "source": [
    "cap = cv2.VideoCapture('Test-objects/Gray-traffic.mp4')\n",
    "while True:\n",
    "    _,img = cap.read()\n",
    "    height ,width,_ = img.shape\n",
    "    blob = cv2.dnn.blobFromImage(img,1/255,(416,416),(0,0,0),swapRB=True,crop=False)\n",
    "\n",
    "    net.setInput(blob)\n",
    "\n",
    "    op_lr_nms = net.getUnconnectedOutLayersNames()\n",
    "\n",
    "    lrOutput = net.forward(op_lr_nms)\n",
    "\n",
    "\n",
    "    boxes =[]\n",
    "    confidences = []\n",
    "    class_ids = []\n",
    "\n",
    "    for output in lrOutput:\n",
    "        for detection in output:\n",
    "            scores = detection[5:]\n",
    "            class_id = np.argmax(scores)\n",
    "            confidence = scores[class_id]\n",
    "        \n",
    "            if confidence >0.5:\n",
    "                center_x = int(detection[0] * width)\n",
    "                center_y = int(detection[1] * height)\n",
    "            \n",
    "                w = int(detection[2] * width)\n",
    "                h = int(detection[3] * height)\n",
    "            \n",
    "                x = int(center_x - w/2)\n",
    "                y = int(center_y - h/2)\n",
    "            \n",
    "                boxes.append([x,y,w,h])\n",
    "                confidences.append((float(confidence)))\n",
    "                class_ids.append(class_id)\n",
    "            \n",
    "    indexes = cv2.dnn.NMSBoxes(boxes,confidences,0.5,0.4)\n",
    "\n",
    "    font = cv2.FONT_HERSHEY_PLAIN\n",
    "    colors = np.random.uniform(0,255,size =(len(boxes),3))\n",
    "\n",
    "    if len(indexes)>0:\n",
    "        for i in indexes.flatten():\n",
    "            x,y,w,h = boxes[i]\n",
    "            label = str(classes[class_ids[i]])\n",
    "            conf = str(round(confidences[i],2))\n",
    "            color = colors[i]\n",
    "            cv2.rectangle(img,(x,y),(x+w,y+h),color,2)\n",
    "            cv2.putText(img,label+\" \"+conf,(x,y+20),font,2,(255,255,255),2)\n",
    "    \n",
    "    cv2.imshow(\"Image\",img)\n",
    "    key = cv2.waitKey(1)\n",
    "    if key == 27:\n",
    "        break\n",
    "cap.release()    \n",
    "cv2.destroyAllWindows()\n",
    "    \n",
    "    \n",
    "        "
   ]
  },
  {
   "cell_type": "code",
   "execution_count": null,
   "id": "a7a355d7",
   "metadata": {},
   "outputs": [],
   "source": []
  }
 ],
 "metadata": {
  "kernelspec": {
   "display_name": "Python 3",
   "language": "python",
   "name": "python3"
  },
  "language_info": {
   "codemirror_mode": {
    "name": "ipython",
    "version": 3
   },
   "file_extension": ".py",
   "mimetype": "text/x-python",
   "name": "python",
   "nbconvert_exporter": "python",
   "pygments_lexer": "ipython3",
   "version": "3.8.5"
  }
 },
 "nbformat": 4,
 "nbformat_minor": 5
}
